{
 "cells": [
  {
   "cell_type": "markdown",
   "metadata": {},
   "source": [
    "### Steven's Threat Modelling Session"
   ]
  },
  {
   "cell_type": "markdown",
   "metadata": {},
   "source": [
    "\n",
    "![image](https://user-images.githubusercontent.com/48519931/58889107-5518dd80-86e0-11e9-989c-0836dfacd6e3.png)\n"
   ]
  },
  {
   "cell_type": "code",
   "execution_count": null,
   "metadata": {},
   "outputs": [],
   "source": [
    "Points discussed for the n.o\n",
    "In Dinis' experience most successful TM's are achieved by reducing the scope of the original TM modelt, to unique paths e.g password change, data storag. When looking at very specific exercises, to create into actionable items assigned to owners.\n",
    "Graphs that can be plotted\n",
    "\n",
    "TM's can be assessed through different TM perspectives, legal, business, security et"
   ]
  }
 ],
 "metadata": {
  "kernelspec": {
   "display_name": "Python 3",
   "language": "python",
   "name": "python3"
  },
  "language_info": {
   "codemirror_mode": {
    "name": "ipython",
    "version": 3
   },
   "file_extension": ".py",
   "mimetype": "text/x-python",
   "name": "python",
   "nbconvert_exporter": "python",
   "pygments_lexer": "ipython3",
   "version": "3.7.3"
  }
 },
 "nbformat": 4,
 "nbformat_minor": 2
}
