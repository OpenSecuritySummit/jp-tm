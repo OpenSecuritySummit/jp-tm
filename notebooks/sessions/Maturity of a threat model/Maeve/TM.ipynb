{
 "cells": [
  {
   "cell_type": "markdown",
   "metadata": {},
   "source": [
    "### Steven's Threat Modelling Session"
   ]
  },
  {
   "cell_type": "markdown",
   "metadata": {},
   "source": [
    "\n",
    "![image](https://user-images.githubusercontent.com/48519931/58889107-5518dd80-86e0-11e9-989c-0836dfacd6e3.png)\n"
   ]
  },
  {
   "cell_type": "markdown",
   "metadata": {},
   "source": [
    "Points discussed \n",
    "\n",
    "- In Dinis' experience most successful TM's are achieved by reducing the scope of the original TM modelt, to unique paths e.g password change, data storag. When looking at very specific exercises, to create into actionable items assigned to owners.\n",
    "Graphs that can be plotted\n",
    "\n",
    "- TM's can be assessed through different TM perspectives, legal, business, privacy, security etc \n",
    "\n",
    "- 'TM's are immature - they are closer to art than science'\n",
    "\n",
    "- Experts /empirical evidence ()\n",
    "\n",
    "- business, development, architecture\n",
    "\n",
    " - There are 4 top level areas involved in TM:\n",
    "A) Process\n",
    "B) Content, \n",
    "C) People involved, \n",
    "D) Practises (each practise has the activity)\n",
    "\n",
    "How - relevant is the TM to the application over time? TM should be linked to a git commit, (for a code base/data base), for a specific moment in time. Then over time, the threat model can be reviewed - to see how relevant it remains to the application.\n"
   ]
  },
  {
   "cell_type": "markdown",
   "metadata": {},
   "source": [
    "## SAMM\n",
    "\n",
    "This is how TM Maturity is measured according to SAMM:\n",
    "https://owaspsamm.org/v2.0b/core/design/d-threat-assessment/"
   ]
  },
  {
   "cell_type": "markdown",
   "metadata": {},
   "source": [
    "![image](https://user-images.githubusercontent.com/48519931/58890786-36681600-86e3-11e9-96bc-6cfcf04dec41.png)\n"
   ]
  },
  {
   "cell_type": "markdown",
   "metadata": {},
   "source": [
    "- TM process should be integrated into the SLDC.\n",
    "- No TM tool exists to current TM problems.\n",
    "- TM prinicples can be actioned in waterfall or agile environments.\n",
    "- However, the more agile you go, the grater the probability that documentation won't be recorded."
   ]
  },
  {
   "cell_type": "code",
   "execution_count": null,
   "metadata": {},
   "outputs": [],
   "source": [
    "What is the success criteria of a TM? What makes one better than the other?"
   ]
  }
 ],
 "metadata": {
  "kernelspec": {
   "display_name": "Python 3",
   "language": "python",
   "name": "python3"
  },
  "language_info": {
   "codemirror_mode": {
    "name": "ipython",
    "version": 3
   },
   "file_extension": ".py",
   "mimetype": "text/x-python",
   "name": "python",
   "nbconvert_exporter": "python",
   "pygments_lexer": "ipython3",
   "version": "3.7.3"
  }
 },
 "nbformat": 4,
 "nbformat_minor": 2
}
