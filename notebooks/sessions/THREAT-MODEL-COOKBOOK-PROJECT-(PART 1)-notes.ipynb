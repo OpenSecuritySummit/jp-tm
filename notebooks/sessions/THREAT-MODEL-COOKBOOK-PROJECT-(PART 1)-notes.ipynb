{
 "cells": [
  {
   "cell_type": "markdown",
   "metadata": {},
   "source": [
    "## Notes\n",
    "\n",
    "Objective: Overview of what the OWASP Project is about.\n",
    "    \n",
    "The project is about having a list of graphic examples.\n",
    "\n",
    "Resources:\n",
    "\n",
    "Github repo - https://github.com/OWASP/threat-model-cookbook\n",
    "    \n",
    "Tash provided an overview of what has been done so far highlighting that TMs are diverse so the idea is to create a TM library and cookbooks\n",
    "to inspired by chef recipes to showcase different methodologies e.g. STRIDE vs CASPER.\n",
    "\n",
    "It's hard to see a threat model so it is relatiely unknown what a successful TM look like.\n",
    "\n",
    "Roadmap to consider:\n",
    "\n",
    " - How can we create TM for other OWASP projects?\n",
    " \n",
    "Objective of session:\n",
    "\n",
    " - Call for particpation/volunteers to contribute\n",
    " - an understanding of what people want.\n",
    " \n",
    " \n",
    " \n",
    "| Points to discuss       | Outcome   | Status |\n",
    "| ------------- |-------------|---------|\n",
    "|Explanation on the way of working |e | closed |\n",
    "|Leadership of the project defined |Leadership confirmed as Tash Norris and Jonathan Marcil | closed|\n",
    "|Naming of the project decided (cookbooks or cookbook?) | Tash renamed repo to cookbooks | closed |\n",
    "|Restructuration of repository (access rights, folders and files) | see \"Structure\" session \n",
    "|Twitter access shared via Tweetdeck | f |\n",
    "|Registration of the project started | Need to complete\n",
    " \n",
    "Actions required:\n",
    " \n",
    " - contact admin of github repo to provide access to Threat Model Cookbook (Dinis action item)\n",
    " - need to complete \"New Project Request\"\n",
    " - contact people who previously contributed/interacted with repo to the Threat Model Cookbook to inform them that an official project is being started (Tash mentioned that most are in the Slack Threat Modelling channel)\n",
    " - need to rename repository to \"cookbooks\"\n",
    " \n",
    "\n",
    " \n",
    " \n",
    "### structure \n",
    " \n",
    "by methodology/flavors/types\n",
    " \n",
    " - PASTA\n",
    " - STRIDE\n",
    " - LINDDUN\n",
    " - DFD only\n",
    " - Attack trees\n",
    " "
   ]
  },
  {
   "cell_type": "markdown",
   "metadata": {},
   "source": []
  },
  {
   "cell_type": "markdown",
   "metadata": {},
   "source": []
  },
  {
   "cell_type": "code",
   "execution_count": null,
   "metadata": {},
   "outputs": [],
   "source": []
  },
  {
   "cell_type": "code",
   "execution_count": null,
   "metadata": {},
   "outputs": [],
   "source": []
  }
 ],
 "metadata": {
  "kernelspec": {
   "display_name": "Python 3",
   "language": "python",
   "name": "python3"
  },
  "language_info": {
   "codemirror_mode": {
    "name": "ipython",
    "version": 3
   },
   "file_extension": ".py",
   "mimetype": "text/x-python",
   "name": "python",
   "nbconvert_exporter": "python",
   "pygments_lexer": "ipython3",
   "version": "3.7.3"
  }
 },
 "nbformat": 4,
 "nbformat_minor": 2
}
