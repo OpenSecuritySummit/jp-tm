{
 "cells": [
  {
   "cell_type": "code",
   "execution_count": null,
   "metadata": {},
   "outputs": [],
   "source": [
    "## Notes\n",
    "\n",
    "Objective: Overview of what the OWASP Project is about.\n",
    "    \n",
    "The project is about having a list of graphic examples.\n",
    "\n",
    "https://github.com/OWASP/threat-model-cookbook\n",
    "    \n",
    "Tash provided an overview of what has been done so far and \n",
    "\n",
    "\n",
    "\n",
    "It's hard to see a threat model so it is relatiely unknown what a successful TM look like.\n"
   ]
  }
 ],
 "metadata": {
  "kernelspec": {
   "display_name": "Python 3",
   "language": "python",
   "name": "python3"
  },
  "language_info": {
   "codemirror_mode": {
    "name": "ipython",
    "version": 3
   },
   "file_extension": ".py",
   "mimetype": "text/x-python",
   "name": "python",
   "nbconvert_exporter": "python",
   "pygments_lexer": "ipython3",
   "version": "3.7.3"
  }
 },
 "nbformat": 4,
 "nbformat_minor": 2
}
