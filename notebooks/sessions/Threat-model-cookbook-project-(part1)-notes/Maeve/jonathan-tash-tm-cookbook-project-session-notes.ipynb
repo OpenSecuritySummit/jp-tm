{
 "cells": [
  {
   "cell_type": "markdown",
   "metadata": {},
   "source": [
    "### Jonathan & Tash's Cookbook Project (Part 1) Notes"
   ]
  },
  {
   "cell_type": "markdown",
   "metadata": {},
   "source": [
    "## Key Points:\n",
    "    \n",
    "- Overview: To create a 'cook book' how of threat models can be carried out.\n",
    "Looking at examples of threat models and what methodologies are used.\n"
   ]
  },
  {
   "cell_type": "markdown",
   "metadata": {},
   "source": [
    "![image](https://user-images.githubusercontent.com/48519931/58894160-63b7c280-86e9-11e9-8dd3-0501d7d5d7c5.png)"
   ]
  },
  {
   "cell_type": "markdown",
   "metadata": {},
   "source": [
    "- Different methodolgies/flavours/styles/types uses in TM:\n",
    "    - Pasia\n",
    "    - Stride\n",
    "    - Linddun\n",
    "    - DFD only\n",
    "    - Attack trees\n",
    "    "
   ]
  },
  {
   "cell_type": "markdown",
   "metadata": {},
   "source": [
    "- The Cookbook will not be prescripting different methodologies for TM's. It will be a collation of TM examples, that use the methodologies above. A disclaimer 'we are not aligned to a specific methodolgy' could be added to the Cookbook."
   ]
  },
  {
   "cell_type": "markdown",
   "metadata": {},
   "source": [
    "- Certain words used in TMs need to be defined so that there isn't confusion."
   ]
  },
  {
   "cell_type": "code",
   "execution_count": null,
   "metadata": {},
   "outputs": [],
   "source": []
  }
 ],
 "metadata": {
  "kernelspec": {
   "display_name": "Python 3",
   "language": "python",
   "name": "python3"
  },
  "language_info": {
   "codemirror_mode": {
    "name": "ipython",
    "version": 3
   },
   "file_extension": ".py",
   "mimetype": "text/x-python",
   "name": "python",
   "nbconvert_exporter": "python",
   "pygments_lexer": "ipython3",
   "version": "3.7.3"
  }
 },
 "nbformat": 4,
 "nbformat_minor": 2
}
